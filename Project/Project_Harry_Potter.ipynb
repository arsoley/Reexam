{
 "cells": [
  {
   "cell_type": "code",
   "execution_count": 58,
   "metadata": {},
   "outputs": [],
   "source": [
    "\n",
    "import markovify\n"
   ]
  },
  {
   "cell_type": "markdown",
   "metadata": {},
   "source": [
    "Телеграм-бот, который присылает пользователю фразы, сгенерированные с помощью марковской цепи. Данные, на которых обучается марковская цепь - это все книги о Гарри Поттере."
   ]
  },
  {
   "cell_type": "code",
   "execution_count": 92,
   "metadata": {},
   "outputs": [],
   "source": [
    "corpus = open(\"Rowling.txt\", encoding='utf-8').read()"
   ]
  },
  {
   "cell_type": "code",
   "execution_count": 93,
   "metadata": {},
   "outputs": [],
   "source": [
    "text_model = markovify.Text(corpus, state_size=1)"
   ]
  },
  {
   "cell_type": "code",
   "execution_count": 94,
   "metadata": {},
   "outputs": [],
   "source": [
    "model_json = text_model.to_json()"
   ]
  },
  {
   "cell_type": "code",
   "execution_count": 95,
   "metadata": {},
   "outputs": [
    {
     "data": {
      "text/plain": [
       "'{\"state_size\": 1, \"chain\": \"[[[\\\\\"___BEGIN__\\\\\"], {\\\\\"Annotation\\\\\": 1, \\\\\"\\\\\\\\u041d\\\\\\\\u0435\\\\\": 458, \\\\\"\\\\\\\\u04'"
      ]
     },
     "execution_count": 95,
     "metadata": {},
     "output_type": "execute_result"
    }
   ],
   "source": [
    "model_json[:100]"
   ]
  },
  {
   "cell_type": "code",
   "execution_count": 96,
   "metadata": {},
   "outputs": [],
   "source": [
    "with open('mark_model.json', 'w') as f:\n",
    "    f.write(model_json)"
   ]
  },
  {
   "cell_type": "code",
   "execution_count": 97,
   "metadata": {},
   "outputs": [],
   "source": [
    "model_json = open('mark_model.json').read()"
   ]
  },
  {
   "cell_type": "code",
   "execution_count": 101,
   "metadata": {},
   "outputs": [
    {
     "data": {
      "text/plain": [
       "'Мистер Мракс и произнес тихий под прямоугольными стеклами защитных очках с присвистом выдохнул.'"
      ]
     },
     "execution_count": 101,
     "metadata": {},
     "output_type": "execute_result"
    }
   ],
   "source": [
    "model = markovify.Text.from_json(model_json)\n",
    "model.make_short_sentence(280)"
   ]
  },
  {
   "cell_type": "code",
   "execution_count": 107,
   "metadata": {},
   "outputs": [],
   "source": [
    "import telebot  # импортируем модуль pyTelegramBotAPI\n",
    "\n",
    "bot = telebot.TeleBot('1315936708:AAHpCCNzY92-Dd9_6f0qadk8O9BUZHX8ZMg')  # создаем экземпляр бота\n",
    "\n",
    "\n",
    "# этот обработчик запускает функцию send_welcome,\n",
    "# когда пользователь отправляет команды /start или /help\n",
    "@bot.message_handler(commands=['start', 'help'])\n",
    "def send_welcome(message):\n",
    "    bot.send_message(message.chat.id,\n",
    "                     \"Добро пожаловать в мир магии!\")\n",
    "\n",
    "\n",
    "@bot.message_handler(func=lambda m: True)\n",
    "def send_len(message):\n",
    "    bot.send_message(message.chat.id, model.make_short_sentence(280))\n",
    "\n",
    "if __name__ == '__main__':\n",
    "    bot.polling(none_stop=True)"
   ]
  },
  {
   "cell_type": "code",
   "execution_count": null,
   "metadata": {},
   "outputs": [],
   "source": []
  }
 ],
 "metadata": {
  "kernelspec": {
   "display_name": "Python 3",
   "language": "python",
   "name": "python3"
  },
  "language_info": {
   "codemirror_mode": {
    "name": "ipython",
    "version": 3
   },
   "file_extension": ".py",
   "mimetype": "text/x-python",
   "name": "python",
   "nbconvert_exporter": "python",
   "pygments_lexer": "ipython3",
   "version": "3.7.7"
  }
 },
 "nbformat": 4,
 "nbformat_minor": 2
}
