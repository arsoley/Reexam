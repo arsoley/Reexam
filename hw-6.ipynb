{
 "cells": [
  {
   "cell_type": "code",
   "execution_count": 312,
   "metadata": {},
   "outputs": [
    {
     "name": "stderr",
     "output_type": "stream",
     "text": [
      "[nltk_data] Downloading package stopwords to\n",
      "[nltk_data]     C:\\Users\\ArsOley\\AppData\\Roaming\\nltk_data...\n",
      "[nltk_data]   Package stopwords is already up-to-date!\n",
      "[nltk_data] Downloading package punkt to\n",
      "[nltk_data]     C:\\Users\\ArsOley\\AppData\\Roaming\\nltk_data...\n",
      "[nltk_data]   Unzipping tokenizers\\punkt.zip.\n"
     ]
    },
    {
     "data": {
      "text/plain": [
       "True"
      ]
     },
     "execution_count": 312,
     "metadata": {},
     "output_type": "execute_result"
    }
   ],
   "source": [
    "import requests\n",
    "from pprint import pprint\n",
    "import pandas as pd\n",
    "import re\n",
    "from nltk.corpus import stopwords\n",
    "from nltk.tokenize import word_tokenize\n",
    "from pymorphy2 import MorphAnalyzer\n",
    "from string import punctuation\n",
    "import matplotlib.pyplot as plt\n",
    "import numpy as np\n",
    "from collections import Counter\n",
    "import nltk\n",
    "nltk.download('stopwords')\n",
    "nltk.download('punkt')"
   ]
  },
  {
   "cell_type": "code",
   "execution_count": 296,
   "metadata": {},
   "outputs": [],
   "source": [
    "TOKEN = '031a725e031a725e031a725e4f036b22a00031a031a725e5dbaea87ddbb6f8fc8545cd8'\n",
    "group = '-29534144' #Лентач\n",
    "version = '5.103'\n",
    "STOPWORDS = stopwords.words('russian')\n",
    "morph = MorphAnalyzer()"
   ]
  },
  {
   "cell_type": "code",
   "execution_count": 297,
   "metadata": {},
   "outputs": [],
   "source": [
    "data = requests.get(\n",
    "    'https://api.vk.com/method/wall.get', \n",
    "    params={\n",
    "        \"owner_id\": group,\n",
    "        \"count\": 20,\n",
    "        \"v\":\"5.92\",\n",
    "        \"access_token\": TOKEN\n",
    "        \n",
    "    }\n",
    ").json()\n",
    "post_ids = [x['id'] for x in data['response']['items']]"
   ]
  },
  {
   "cell_type": "code",
   "execution_count": 298,
   "metadata": {},
   "outputs": [
    {
     "data": {
      "text/plain": [
       "[14334372,\n",
       " 14334474,\n",
       " 14334200,\n",
       " 14334054,\n",
       " 14333925,\n",
       " 14333767,\n",
       " 14333656,\n",
       " 14333527,\n",
       " 14333440,\n",
       " 14333282,\n",
       " 14333185,\n",
       " 14333036,\n",
       " 14332894,\n",
       " 14332833,\n",
       " 14332544,\n",
       " 14332319,\n",
       " 14332193,\n",
       " 14331991,\n",
       " 14331795,\n",
       " 14331439]"
      ]
     },
     "execution_count": 298,
     "metadata": {},
     "output_type": "execute_result"
    }
   ],
   "source": [
    "post_ids"
   ]
  },
  {
   "cell_type": "code",
   "execution_count": 299,
   "metadata": {},
   "outputs": [],
   "source": [
    "comments = []\n",
    "offsets = list(range(0, 1000, 100))\n",
    "\n",
    "for post_id in post_ids:\n",
    "    for off in offsets:\n",
    "        data = requests.get(\n",
    "            'https://api.vk.com/method/wall.getComments',\n",
    "            params={\n",
    "                'owner_id': group,\n",
    "                'post_id': post_id,\n",
    "                'access_token': TOKEN,\n",
    "                'v': version,\n",
    "                'offset': off,\n",
    "                'need_likes': 1,\n",
    "                'count': 100,\n",
    "                'thread_items_count': 10\n",
    "            }\n",
    "        ).json()\n",
    "        comments.extend(data['response']['items'])\n",
    "        for comment in data['response']['items']:\n",
    "            if comment['thread']['count'] != 0:\n",
    "                comments.extend(comment['thread']['items'])"
   ]
  },
  {
   "cell_type": "code",
   "execution_count": 302,
   "metadata": {},
   "outputs": [
    {
     "data": {
      "text/plain": [
       "1451"
      ]
     },
     "execution_count": 302,
     "metadata": {},
     "output_type": "execute_result"
    }
   ],
   "source": [
    "for i in range(len(comments)):\n",
    "    if 'from_id' not in comments[i]:\n",
    "        del comments[i]\n",
    "len(comments)"
   ]
  },
  {
   "cell_type": "code",
   "execution_count": 303,
   "metadata": {},
   "outputs": [
    {
     "data": {
      "text/plain": [
       "815"
      ]
     },
     "execution_count": 303,
     "metadata": {},
     "output_type": "execute_result"
    }
   ],
   "source": [
    "\n",
    "users = set([x['from_id'] for x in comments])\n",
    "len(users)\n"
   ]
  },
  {
   "cell_type": "code",
   "execution_count": 304,
   "metadata": {},
   "outputs": [],
   "source": [
    "comments_metadata = []\n",
    "for i in comments:\n",
    "    comment = {\n",
    "        'user_id': i['from_id'],\n",
    "        'text': i['text'],\n",
    "        'likes_count': i['likes']['count']\n",
    "    }\n",
    "    comments_metadata.append(comment)"
   ]
  },
  {
   "cell_type": "code",
   "execution_count": 305,
   "metadata": {},
   "outputs": [
    {
     "data": {
      "text/html": [
       "<div>\n",
       "<style scoped>\n",
       "    .dataframe tbody tr th:only-of-type {\n",
       "        vertical-align: middle;\n",
       "    }\n",
       "\n",
       "    .dataframe tbody tr th {\n",
       "        vertical-align: top;\n",
       "    }\n",
       "\n",
       "    .dataframe thead th {\n",
       "        text-align: right;\n",
       "    }\n",
       "</style>\n",
       "<table border=\"1\" class=\"dataframe\">\n",
       "  <thead>\n",
       "    <tr style=\"text-align: right;\">\n",
       "      <th></th>\n",
       "      <th>user_id</th>\n",
       "      <th>text</th>\n",
       "      <th>likes_count</th>\n",
       "    </tr>\n",
       "  </thead>\n",
       "  <tbody>\n",
       "    <tr>\n",
       "      <th>0</th>\n",
       "      <td>14301570</td>\n",
       "      <td>Лентач, который уже 3 год подряд берет огромны...</td>\n",
       "      <td>211</td>\n",
       "    </tr>\n",
       "    <tr>\n",
       "      <th>1</th>\n",
       "      <td>290562</td>\n",
       "      <td>Это война, чё вы хотели</td>\n",
       "      <td>2</td>\n",
       "    </tr>\n",
       "    <tr>\n",
       "      <th>2</th>\n",
       "      <td>196202102</td>\n",
       "      <td>Только представьте сколько людей сидят и ставя...</td>\n",
       "      <td>40</td>\n",
       "    </tr>\n",
       "    <tr>\n",
       "      <th>3</th>\n",
       "      <td>7351481</td>\n",
       "      <td>Странно, что лентач царя не рисует</td>\n",
       "      <td>1</td>\n",
       "    </tr>\n",
       "    <tr>\n",
       "      <th>4</th>\n",
       "      <td>185367764</td>\n",
       "      <td>Переделайте разметку под : лентач x 89squad</td>\n",
       "      <td>0</td>\n",
       "    </tr>\n",
       "    <tr>\n",
       "      <th>...</th>\n",
       "      <td>...</td>\n",
       "      <td>...</td>\n",
       "      <td>...</td>\n",
       "    </tr>\n",
       "    <tr>\n",
       "      <th>1446</th>\n",
       "      <td>614645911</td>\n",
       "      <td>[id17155502|Павел], »\"где медицина развита мен...</td>\n",
       "      <td>8</td>\n",
       "    </tr>\n",
       "    <tr>\n",
       "      <th>1447</th>\n",
       "      <td>17155502</td>\n",
       "      <td>Щас бы в 2020к еще спорить на тему развитости ...</td>\n",
       "      <td>2</td>\n",
       "    </tr>\n",
       "    <tr>\n",
       "      <th>1448</th>\n",
       "      <td>614645911</td>\n",
       "      <td>[id17155502|Павел], зачем ты сам себя лайкашь ...</td>\n",
       "      <td>2</td>\n",
       "    </tr>\n",
       "    <tr>\n",
       "      <th>1449</th>\n",
       "      <td>102288260</td>\n",
       "      <td>[id30307910|Александр], а поновее ничего нет?</td>\n",
       "      <td>2</td>\n",
       "    </tr>\n",
       "    <tr>\n",
       "      <th>1450</th>\n",
       "      <td>8260849</td>\n",
       "      <td>[id515704586|Сергей], сами пейте свое пойло</td>\n",
       "      <td>0</td>\n",
       "    </tr>\n",
       "  </tbody>\n",
       "</table>\n",
       "<p>1451 rows × 3 columns</p>\n",
       "</div>"
      ],
      "text/plain": [
       "        user_id                                               text  \\\n",
       "0      14301570  Лентач, который уже 3 год подряд берет огромны...   \n",
       "1        290562                            Это война, чё вы хотели   \n",
       "2     196202102  Только представьте сколько людей сидят и ставя...   \n",
       "3       7351481                 Странно, что лентач царя не рисует   \n",
       "4     185367764        Переделайте разметку под : лентач x 89squad   \n",
       "...         ...                                                ...   \n",
       "1446  614645911  [id17155502|Павел], »\"где медицина развита мен...   \n",
       "1447   17155502  Щас бы в 2020к еще спорить на тему развитости ...   \n",
       "1448  614645911  [id17155502|Павел], зачем ты сам себя лайкашь ...   \n",
       "1449  102288260      [id30307910|Александр], а поновее ничего нет?   \n",
       "1450    8260849        [id515704586|Сергей], сами пейте свое пойло   \n",
       "\n",
       "      likes_count  \n",
       "0             211  \n",
       "1               2  \n",
       "2              40  \n",
       "3               1  \n",
       "4               0  \n",
       "...           ...  \n",
       "1446            8  \n",
       "1447            2  \n",
       "1448            2  \n",
       "1449            2  \n",
       "1450            0  \n",
       "\n",
       "[1451 rows x 3 columns]"
      ]
     },
     "execution_count": 305,
     "metadata": {},
     "output_type": "execute_result"
    }
   ],
   "source": [
    "comments_df = pd.DataFrame.from_dict(comments_metadata)\n",
    "comments_df"
   ]
  },
  {
   "cell_type": "code",
   "execution_count": 306,
   "metadata": {},
   "outputs": [],
   "source": [
    "def get_user_info(user_id):\n",
    "    if user_id < 0:\n",
    "        return 'None', 'None'\n",
    "    user_data = requests.get(\n",
    "        'https://api.vk.com/method/users.get',\n",
    "        params={\n",
    "            'user_ids': user_id,\n",
    "            'fields': 'sex, bdate',\n",
    "            'access_token': TOKEN,\n",
    "            'v': version,\n",
    "        }\n",
    "    ).json()\n",
    "    if user_data['response'][0]['sex'] == 1:\n",
    "        user_sex = 'f'\n",
    "    elif user_data['response'][0]['sex'] == 2:\n",
    "        user_sex = 'm'\n",
    "    elif user_data['response'][0]['sex'] == 0:\n",
    "        user_sex = 'None'\n",
    "    if 'bdate' not in user_data['response'][0]:\n",
    "        user_age = 'None'\n",
    "    else:\n",
    "        user_bdate = user_data['response'][0]['bdate'].split('.')\n",
    "        if len(user_bdate) == 3:\n",
    "            user_age = 2020 - int(user_data['response'][0]['bdate'].split('.')[2])\n",
    "        else:\n",
    "            user_age = 'None'\n",
    "    \n",
    "    return user_sex, user_age"
   ]
  },
  {
   "cell_type": "code",
   "execution_count": 307,
   "metadata": {},
   "outputs": [
    {
     "data": {
      "text/plain": [
       "0         (m, 26)\n",
       "1         (m, 34)\n",
       "2       (f, None)\n",
       "3         (m, 27)\n",
       "4         (m, 19)\n",
       "          ...    \n",
       "1446     (m, 118)\n",
       "1447      (m, 31)\n",
       "1448     (m, 118)\n",
       "1449    (m, None)\n",
       "1450      (m, 33)\n",
       "Name: user_id, Length: 1451, dtype: object"
      ]
     },
     "execution_count": 307,
     "metadata": {},
     "output_type": "execute_result"
    }
   ],
   "source": [
    "users_info = comments_df['user_id'].apply(get_user_info)\n",
    "users_info"
   ]
  },
  {
   "cell_type": "code",
   "execution_count": 308,
   "metadata": {},
   "outputs": [
    {
     "data": {
      "text/plain": [
       "0         26\n",
       "1         34\n",
       "2       None\n",
       "3         27\n",
       "4         19\n",
       "        ... \n",
       "1446     118\n",
       "1447      31\n",
       "1448     118\n",
       "1449    None\n",
       "1450      33\n",
       "Name: user_id, Length: 1451, dtype: object"
      ]
     },
     "execution_count": 308,
     "metadata": {},
     "output_type": "execute_result"
    }
   ],
   "source": [
    "users_sex = users_info.apply(lambda x: x[0])\n",
    "users_age = users_info.apply(lambda x: x[1])\n",
    "users_age\n"
   ]
  },
  {
   "cell_type": "code",
   "execution_count": 309,
   "metadata": {},
   "outputs": [
    {
     "data": {
      "text/html": [
       "<div>\n",
       "<style scoped>\n",
       "    .dataframe tbody tr th:only-of-type {\n",
       "        vertical-align: middle;\n",
       "    }\n",
       "\n",
       "    .dataframe tbody tr th {\n",
       "        vertical-align: top;\n",
       "    }\n",
       "\n",
       "    .dataframe thead th {\n",
       "        text-align: right;\n",
       "    }\n",
       "</style>\n",
       "<table border=\"1\" class=\"dataframe\">\n",
       "  <thead>\n",
       "    <tr style=\"text-align: right;\">\n",
       "      <th></th>\n",
       "      <th>user_id</th>\n",
       "      <th>text</th>\n",
       "      <th>likes_count</th>\n",
       "      <th>user_sex</th>\n",
       "      <th>user_age</th>\n",
       "    </tr>\n",
       "  </thead>\n",
       "  <tbody>\n",
       "    <tr>\n",
       "      <th>0</th>\n",
       "      <td>14301570</td>\n",
       "      <td>Лентач, который уже 3 год подряд берет огромны...</td>\n",
       "      <td>211</td>\n",
       "      <td>m</td>\n",
       "      <td>26</td>\n",
       "    </tr>\n",
       "    <tr>\n",
       "      <th>1</th>\n",
       "      <td>290562</td>\n",
       "      <td>Это война, чё вы хотели</td>\n",
       "      <td>2</td>\n",
       "      <td>m</td>\n",
       "      <td>34</td>\n",
       "    </tr>\n",
       "    <tr>\n",
       "      <th>2</th>\n",
       "      <td>196202102</td>\n",
       "      <td>Только представьте сколько людей сидят и ставя...</td>\n",
       "      <td>40</td>\n",
       "      <td>f</td>\n",
       "      <td>None</td>\n",
       "    </tr>\n",
       "    <tr>\n",
       "      <th>3</th>\n",
       "      <td>7351481</td>\n",
       "      <td>Странно, что лентач царя не рисует</td>\n",
       "      <td>1</td>\n",
       "      <td>m</td>\n",
       "      <td>27</td>\n",
       "    </tr>\n",
       "    <tr>\n",
       "      <th>4</th>\n",
       "      <td>185367764</td>\n",
       "      <td>Переделайте разметку под : лентач x 89squad</td>\n",
       "      <td>0</td>\n",
       "      <td>m</td>\n",
       "      <td>19</td>\n",
       "    </tr>\n",
       "    <tr>\n",
       "      <th>...</th>\n",
       "      <td>...</td>\n",
       "      <td>...</td>\n",
       "      <td>...</td>\n",
       "      <td>...</td>\n",
       "      <td>...</td>\n",
       "    </tr>\n",
       "    <tr>\n",
       "      <th>1446</th>\n",
       "      <td>614645911</td>\n",
       "      <td>[id17155502|Павел], »\"где медицина развита мен...</td>\n",
       "      <td>8</td>\n",
       "      <td>m</td>\n",
       "      <td>118</td>\n",
       "    </tr>\n",
       "    <tr>\n",
       "      <th>1447</th>\n",
       "      <td>17155502</td>\n",
       "      <td>Щас бы в 2020к еще спорить на тему развитости ...</td>\n",
       "      <td>2</td>\n",
       "      <td>m</td>\n",
       "      <td>31</td>\n",
       "    </tr>\n",
       "    <tr>\n",
       "      <th>1448</th>\n",
       "      <td>614645911</td>\n",
       "      <td>[id17155502|Павел], зачем ты сам себя лайкашь ...</td>\n",
       "      <td>2</td>\n",
       "      <td>m</td>\n",
       "      <td>118</td>\n",
       "    </tr>\n",
       "    <tr>\n",
       "      <th>1449</th>\n",
       "      <td>102288260</td>\n",
       "      <td>[id30307910|Александр], а поновее ничего нет?</td>\n",
       "      <td>2</td>\n",
       "      <td>m</td>\n",
       "      <td>None</td>\n",
       "    </tr>\n",
       "    <tr>\n",
       "      <th>1450</th>\n",
       "      <td>8260849</td>\n",
       "      <td>[id515704586|Сергей], сами пейте свое пойло</td>\n",
       "      <td>0</td>\n",
       "      <td>m</td>\n",
       "      <td>33</td>\n",
       "    </tr>\n",
       "  </tbody>\n",
       "</table>\n",
       "<p>1451 rows × 5 columns</p>\n",
       "</div>"
      ],
      "text/plain": [
       "        user_id                                               text  \\\n",
       "0      14301570  Лентач, который уже 3 год подряд берет огромны...   \n",
       "1        290562                            Это война, чё вы хотели   \n",
       "2     196202102  Только представьте сколько людей сидят и ставя...   \n",
       "3       7351481                 Странно, что лентач царя не рисует   \n",
       "4     185367764        Переделайте разметку под : лентач x 89squad   \n",
       "...         ...                                                ...   \n",
       "1446  614645911  [id17155502|Павел], »\"где медицина развита мен...   \n",
       "1447   17155502  Щас бы в 2020к еще спорить на тему развитости ...   \n",
       "1448  614645911  [id17155502|Павел], зачем ты сам себя лайкашь ...   \n",
       "1449  102288260      [id30307910|Александр], а поновее ничего нет?   \n",
       "1450    8260849        [id515704586|Сергей], сами пейте свое пойло   \n",
       "\n",
       "      likes_count user_sex user_age  \n",
       "0             211        m       26  \n",
       "1               2        m       34  \n",
       "2              40        f     None  \n",
       "3               1        m       27  \n",
       "4               0        m       19  \n",
       "...           ...      ...      ...  \n",
       "1446            8        m      118  \n",
       "1447            2        m       31  \n",
       "1448            2        m      118  \n",
       "1449            2        m     None  \n",
       "1450            0        m       33  \n",
       "\n",
       "[1451 rows x 5 columns]"
      ]
     },
     "execution_count": 309,
     "metadata": {},
     "output_type": "execute_result"
    }
   ],
   "source": [
    "comments_df['user_sex'] = users_sex\n",
    "comments_df['user_age'] = users_age\n",
    "comments_df"
   ]
  },
  {
   "cell_type": "code",
   "execution_count": 310,
   "metadata": {},
   "outputs": [],
   "source": [
    "def comment_text_lemmatize(text):\n",
    "    if re.search(r'\\[.+?\\|(.+?)\\]', text):\n",
    "        addressee = re.search(r'\\[.+?\\|(.+?)\\]', text).group(1)\n",
    "        text = re.sub(r'\\[.+?\\|.+?\\]', addressee, text)\n",
    "\n",
    "    text = [x.strip(punctuation).lower() for x in word_tokenize(text) if x.isalpha() and (x not in STOPWORDS)]\n",
    "    text_lemmatized = ' '.join([morph.parse(x)[0].normal_form for x in text])\n",
    "    \n",
    "    return text_lemmatized"
   ]
  },
  {
   "cell_type": "code",
   "execution_count": 313,
   "metadata": {},
   "outputs": [
    {
     "data": {
      "text/plain": [
       "0       лентач который год подряд брать огромный кусок...\n",
       "1                                    это война что хотеть\n",
       "2       только представить сколько человек сидеть став...\n",
       "3                            странно лентач царь рисовать\n",
       "4                            переделать разметка лентач x\n",
       "                              ...                        \n",
       "1446    павел медицина развить менее тот европа юродив...\n",
       "1447    сейчас спорить тема развитость медицина запад ...\n",
       "1448    павел лайкать квасной клоунский пост волшебный...\n",
       "1449                                      александр новый\n",
       "1450                           сергей сам пить свой пойло\n",
       "Name: text, Length: 1451, dtype: object"
      ]
     },
     "execution_count": 313,
     "metadata": {},
     "output_type": "execute_result"
    }
   ],
   "source": [
    "texts_lemmatized = comments_df['text'].apply(comment_text_lemmatize)\n",
    "texts_lemmatized\n"
   ]
  },
  {
   "cell_type": "code",
   "execution_count": 314,
   "metadata": {},
   "outputs": [
    {
     "data": {
      "text/html": [
       "<div>\n",
       "<style scoped>\n",
       "    .dataframe tbody tr th:only-of-type {\n",
       "        vertical-align: middle;\n",
       "    }\n",
       "\n",
       "    .dataframe tbody tr th {\n",
       "        vertical-align: top;\n",
       "    }\n",
       "\n",
       "    .dataframe thead th {\n",
       "        text-align: right;\n",
       "    }\n",
       "</style>\n",
       "<table border=\"1\" class=\"dataframe\">\n",
       "  <thead>\n",
       "    <tr style=\"text-align: right;\">\n",
       "      <th></th>\n",
       "      <th>user_id</th>\n",
       "      <th>text</th>\n",
       "      <th>likes_count</th>\n",
       "      <th>user_sex</th>\n",
       "      <th>user_age</th>\n",
       "      <th>text_lemmatized</th>\n",
       "    </tr>\n",
       "  </thead>\n",
       "  <tbody>\n",
       "    <tr>\n",
       "      <th>0</th>\n",
       "      <td>14301570</td>\n",
       "      <td>Лентач, который уже 3 год подряд берет огромны...</td>\n",
       "      <td>211</td>\n",
       "      <td>m</td>\n",
       "      <td>26</td>\n",
       "      <td>лентач который год подряд брать огромный кусок...</td>\n",
       "    </tr>\n",
       "    <tr>\n",
       "      <th>1</th>\n",
       "      <td>290562</td>\n",
       "      <td>Это война, чё вы хотели</td>\n",
       "      <td>2</td>\n",
       "      <td>m</td>\n",
       "      <td>34</td>\n",
       "      <td>это война что хотеть</td>\n",
       "    </tr>\n",
       "    <tr>\n",
       "      <th>2</th>\n",
       "      <td>196202102</td>\n",
       "      <td>Только представьте сколько людей сидят и ставя...</td>\n",
       "      <td>40</td>\n",
       "      <td>f</td>\n",
       "      <td>None</td>\n",
       "      <td>только представить сколько человек сидеть став...</td>\n",
       "    </tr>\n",
       "    <tr>\n",
       "      <th>3</th>\n",
       "      <td>7351481</td>\n",
       "      <td>Странно, что лентач царя не рисует</td>\n",
       "      <td>1</td>\n",
       "      <td>m</td>\n",
       "      <td>27</td>\n",
       "      <td>странно лентач царь рисовать</td>\n",
       "    </tr>\n",
       "    <tr>\n",
       "      <th>4</th>\n",
       "      <td>185367764</td>\n",
       "      <td>Переделайте разметку под : лентач x 89squad</td>\n",
       "      <td>0</td>\n",
       "      <td>m</td>\n",
       "      <td>19</td>\n",
       "      <td>переделать разметка лентач x</td>\n",
       "    </tr>\n",
       "    <tr>\n",
       "      <th>...</th>\n",
       "      <td>...</td>\n",
       "      <td>...</td>\n",
       "      <td>...</td>\n",
       "      <td>...</td>\n",
       "      <td>...</td>\n",
       "      <td>...</td>\n",
       "    </tr>\n",
       "    <tr>\n",
       "      <th>1446</th>\n",
       "      <td>614645911</td>\n",
       "      <td>[id17155502|Павел], »\"где медицина развита мен...</td>\n",
       "      <td>8</td>\n",
       "      <td>m</td>\n",
       "      <td>118</td>\n",
       "      <td>павел медицина развить менее тот европа юродив...</td>\n",
       "    </tr>\n",
       "    <tr>\n",
       "      <th>1447</th>\n",
       "      <td>17155502</td>\n",
       "      <td>Щас бы в 2020к еще спорить на тему развитости ...</td>\n",
       "      <td>2</td>\n",
       "      <td>m</td>\n",
       "      <td>31</td>\n",
       "      <td>сейчас спорить тема развитость медицина запад ...</td>\n",
       "    </tr>\n",
       "    <tr>\n",
       "      <th>1448</th>\n",
       "      <td>614645911</td>\n",
       "      <td>[id17155502|Павел], зачем ты сам себя лайкашь ...</td>\n",
       "      <td>2</td>\n",
       "      <td>m</td>\n",
       "      <td>118</td>\n",
       "      <td>павел лайкать квасной клоунский пост волшебный...</td>\n",
       "    </tr>\n",
       "    <tr>\n",
       "      <th>1449</th>\n",
       "      <td>102288260</td>\n",
       "      <td>[id30307910|Александр], а поновее ничего нет?</td>\n",
       "      <td>2</td>\n",
       "      <td>m</td>\n",
       "      <td>None</td>\n",
       "      <td>александр новый</td>\n",
       "    </tr>\n",
       "    <tr>\n",
       "      <th>1450</th>\n",
       "      <td>8260849</td>\n",
       "      <td>[id515704586|Сергей], сами пейте свое пойло</td>\n",
       "      <td>0</td>\n",
       "      <td>m</td>\n",
       "      <td>33</td>\n",
       "      <td>сергей сам пить свой пойло</td>\n",
       "    </tr>\n",
       "  </tbody>\n",
       "</table>\n",
       "<p>1451 rows × 6 columns</p>\n",
       "</div>"
      ],
      "text/plain": [
       "        user_id                                               text  \\\n",
       "0      14301570  Лентач, который уже 3 год подряд берет огромны...   \n",
       "1        290562                            Это война, чё вы хотели   \n",
       "2     196202102  Только представьте сколько людей сидят и ставя...   \n",
       "3       7351481                 Странно, что лентач царя не рисует   \n",
       "4     185367764        Переделайте разметку под : лентач x 89squad   \n",
       "...         ...                                                ...   \n",
       "1446  614645911  [id17155502|Павел], »\"где медицина развита мен...   \n",
       "1447   17155502  Щас бы в 2020к еще спорить на тему развитости ...   \n",
       "1448  614645911  [id17155502|Павел], зачем ты сам себя лайкашь ...   \n",
       "1449  102288260      [id30307910|Александр], а поновее ничего нет?   \n",
       "1450    8260849        [id515704586|Сергей], сами пейте свое пойло   \n",
       "\n",
       "      likes_count user_sex user_age  \\\n",
       "0             211        m       26   \n",
       "1               2        m       34   \n",
       "2              40        f     None   \n",
       "3               1        m       27   \n",
       "4               0        m       19   \n",
       "...           ...      ...      ...   \n",
       "1446            8        m      118   \n",
       "1447            2        m       31   \n",
       "1448            2        m      118   \n",
       "1449            2        m     None   \n",
       "1450            0        m       33   \n",
       "\n",
       "                                        text_lemmatized  \n",
       "0     лентач который год подряд брать огромный кусок...  \n",
       "1                                  это война что хотеть  \n",
       "2     только представить сколько человек сидеть став...  \n",
       "3                          странно лентач царь рисовать  \n",
       "4                          переделать разметка лентач x  \n",
       "...                                                 ...  \n",
       "1446  павел медицина развить менее тот европа юродив...  \n",
       "1447  сейчас спорить тема развитость медицина запад ...  \n",
       "1448  павел лайкать квасной клоунский пост волшебный...  \n",
       "1449                                    александр новый  \n",
       "1450                         сергей сам пить свой пойло  \n",
       "\n",
       "[1451 rows x 6 columns]"
      ]
     },
     "execution_count": 314,
     "metadata": {},
     "output_type": "execute_result"
    }
   ],
   "source": [
    "comments_df['text_lemmatized'] = texts_lemmatized\n",
    "comments_df"
   ]
  },
  {
   "cell_type": "code",
   "execution_count": 315,
   "metadata": {},
   "outputs": [
    {
     "data": {
      "text/html": [
       "<div>\n",
       "<style scoped>\n",
       "    .dataframe tbody tr th:only-of-type {\n",
       "        vertical-align: middle;\n",
       "    }\n",
       "\n",
       "    .dataframe tbody tr th {\n",
       "        vertical-align: top;\n",
       "    }\n",
       "\n",
       "    .dataframe thead th {\n",
       "        text-align: right;\n",
       "    }\n",
       "</style>\n",
       "<table border=\"1\" class=\"dataframe\">\n",
       "  <thead>\n",
       "    <tr style=\"text-align: right;\">\n",
       "      <th></th>\n",
       "      <th>user_id</th>\n",
       "      <th>text_original</th>\n",
       "      <th>likes_count</th>\n",
       "      <th>user_sex</th>\n",
       "      <th>user_age</th>\n",
       "      <th>text_lemmatized</th>\n",
       "    </tr>\n",
       "  </thead>\n",
       "  <tbody>\n",
       "    <tr>\n",
       "      <th>0</th>\n",
       "      <td>14301570</td>\n",
       "      <td>Лентач, который уже 3 год подряд берет огромны...</td>\n",
       "      <td>211</td>\n",
       "      <td>m</td>\n",
       "      <td>26</td>\n",
       "      <td>лентач который год подряд брать огромный кусок...</td>\n",
       "    </tr>\n",
       "    <tr>\n",
       "      <th>1</th>\n",
       "      <td>290562</td>\n",
       "      <td>Это война, чё вы хотели</td>\n",
       "      <td>2</td>\n",
       "      <td>m</td>\n",
       "      <td>34</td>\n",
       "      <td>это война что хотеть</td>\n",
       "    </tr>\n",
       "    <tr>\n",
       "      <th>2</th>\n",
       "      <td>196202102</td>\n",
       "      <td>Только представьте сколько людей сидят и ставя...</td>\n",
       "      <td>40</td>\n",
       "      <td>f</td>\n",
       "      <td>None</td>\n",
       "      <td>только представить сколько человек сидеть став...</td>\n",
       "    </tr>\n",
       "    <tr>\n",
       "      <th>3</th>\n",
       "      <td>7351481</td>\n",
       "      <td>Странно, что лентач царя не рисует</td>\n",
       "      <td>1</td>\n",
       "      <td>m</td>\n",
       "      <td>27</td>\n",
       "      <td>странно лентач царь рисовать</td>\n",
       "    </tr>\n",
       "    <tr>\n",
       "      <th>4</th>\n",
       "      <td>185367764</td>\n",
       "      <td>Переделайте разметку под : лентач x 89squad</td>\n",
       "      <td>0</td>\n",
       "      <td>m</td>\n",
       "      <td>19</td>\n",
       "      <td>переделать разметка лентач x</td>\n",
       "    </tr>\n",
       "    <tr>\n",
       "      <th>...</th>\n",
       "      <td>...</td>\n",
       "      <td>...</td>\n",
       "      <td>...</td>\n",
       "      <td>...</td>\n",
       "      <td>...</td>\n",
       "      <td>...</td>\n",
       "    </tr>\n",
       "    <tr>\n",
       "      <th>1446</th>\n",
       "      <td>614645911</td>\n",
       "      <td>[id17155502|Павел], »\"где медицина развита мен...</td>\n",
       "      <td>8</td>\n",
       "      <td>m</td>\n",
       "      <td>118</td>\n",
       "      <td>павел медицина развить менее тот европа юродив...</td>\n",
       "    </tr>\n",
       "    <tr>\n",
       "      <th>1447</th>\n",
       "      <td>17155502</td>\n",
       "      <td>Щас бы в 2020к еще спорить на тему развитости ...</td>\n",
       "      <td>2</td>\n",
       "      <td>m</td>\n",
       "      <td>31</td>\n",
       "      <td>сейчас спорить тема развитость медицина запад ...</td>\n",
       "    </tr>\n",
       "    <tr>\n",
       "      <th>1448</th>\n",
       "      <td>614645911</td>\n",
       "      <td>[id17155502|Павел], зачем ты сам себя лайкашь ...</td>\n",
       "      <td>2</td>\n",
       "      <td>m</td>\n",
       "      <td>118</td>\n",
       "      <td>павел лайкать квасной клоунский пост волшебный...</td>\n",
       "    </tr>\n",
       "    <tr>\n",
       "      <th>1449</th>\n",
       "      <td>102288260</td>\n",
       "      <td>[id30307910|Александр], а поновее ничего нет?</td>\n",
       "      <td>2</td>\n",
       "      <td>m</td>\n",
       "      <td>None</td>\n",
       "      <td>александр новый</td>\n",
       "    </tr>\n",
       "    <tr>\n",
       "      <th>1450</th>\n",
       "      <td>8260849</td>\n",
       "      <td>[id515704586|Сергей], сами пейте свое пойло</td>\n",
       "      <td>0</td>\n",
       "      <td>m</td>\n",
       "      <td>33</td>\n",
       "      <td>сергей сам пить свой пойло</td>\n",
       "    </tr>\n",
       "  </tbody>\n",
       "</table>\n",
       "<p>1451 rows × 6 columns</p>\n",
       "</div>"
      ],
      "text/plain": [
       "        user_id                                      text_original  \\\n",
       "0      14301570  Лентач, который уже 3 год подряд берет огромны...   \n",
       "1        290562                            Это война, чё вы хотели   \n",
       "2     196202102  Только представьте сколько людей сидят и ставя...   \n",
       "3       7351481                 Странно, что лентач царя не рисует   \n",
       "4     185367764        Переделайте разметку под : лентач x 89squad   \n",
       "...         ...                                                ...   \n",
       "1446  614645911  [id17155502|Павел], »\"где медицина развита мен...   \n",
       "1447   17155502  Щас бы в 2020к еще спорить на тему развитости ...   \n",
       "1448  614645911  [id17155502|Павел], зачем ты сам себя лайкашь ...   \n",
       "1449  102288260      [id30307910|Александр], а поновее ничего нет?   \n",
       "1450    8260849        [id515704586|Сергей], сами пейте свое пойло   \n",
       "\n",
       "      likes_count user_sex user_age  \\\n",
       "0             211        m       26   \n",
       "1               2        m       34   \n",
       "2              40        f     None   \n",
       "3               1        m       27   \n",
       "4               0        m       19   \n",
       "...           ...      ...      ...   \n",
       "1446            8        m      118   \n",
       "1447            2        m       31   \n",
       "1448            2        m      118   \n",
       "1449            2        m     None   \n",
       "1450            0        m       33   \n",
       "\n",
       "                                        text_lemmatized  \n",
       "0     лентач который год подряд брать огромный кусок...  \n",
       "1                                  это война что хотеть  \n",
       "2     только представить сколько человек сидеть став...  \n",
       "3                          странно лентач царь рисовать  \n",
       "4                          переделать разметка лентач x  \n",
       "...                                                 ...  \n",
       "1446  павел медицина развить менее тот европа юродив...  \n",
       "1447  сейчас спорить тема развитость медицина запад ...  \n",
       "1448  павел лайкать квасной клоунский пост волшебный...  \n",
       "1449                                    александр новый  \n",
       "1450                         сергей сам пить свой пойло  \n",
       "\n",
       "[1451 rows x 6 columns]"
      ]
     },
     "execution_count": 315,
     "metadata": {},
     "output_type": "execute_result"
    }
   ],
   "source": [
    "comments_df.rename(columns={'text': 'text_original'}, inplace=True)\n",
    "comments_df"
   ]
  },
  {
   "cell_type": "code",
   "execution_count": 316,
   "metadata": {},
   "outputs": [],
   "source": [
    "comments_df.to_csv('vk_comments.csv', index=False)"
   ]
  },
  {
   "cell_type": "code",
   "execution_count": 317,
   "metadata": {},
   "outputs": [],
   "source": [
    "comments_df = pd.read_csv('vk_comments.csv')"
   ]
  },
  {
   "cell_type": "code",
   "execution_count": 318,
   "metadata": {},
   "outputs": [
    {
     "data": {
      "image/png": "[encoded data removed]",
      "text/plain": [
       "<Figure size 432x288 with 1 Axes>"
      ]
     },
     "metadata": {
      "needs_background": "light"
     },
     "output_type": "display_data"
    }
   ],
   "source": [
    "# Правда ли, что комментариям, написанным мужчинами, чаще ставят лайки? Построим bar plot.\n",
    "\n",
    "female_mean = comments_df[comments_df['user_sex'] == 'f']['likes_count'].mean()\n",
    "male_mean = comments_df[comments_df['user_sex'] == 'm']['likes_count'].mean()\n",
    "plt.bar((1, 2), (female_mean, male_mean))\n",
    "plt.xticks(ticks=(1, 2), labels=('ж', 'м'))\n",
    "plt.title('Среднее количество лайков в зависимости от пола пользователя')\n",
    "plt.ylabel('Среднее количество лайков')\n",
    "plt.xlabel('Пол пользователя')\n",
    "plt.show()"
   ]
  },
  {
   "cell_type": "code",
   "execution_count": 319,
   "metadata": {},
   "outputs": [
    {
     "data": {
      "text/plain": [
       "0"
      ]
     },
     "execution_count": 319,
     "metadata": {},
     "output_type": "execute_result"
    }
   ],
   "source": [
    "comments_df['text_lemmatized'].fillna('', inplace=True)\n",
    "comments_df['text_lemmatized'].isna().sum()"
   ]
  },
  {
   "cell_type": "code",
   "execution_count": 320,
   "metadata": {},
   "outputs": [],
   "source": [
    "lemmatized_texts_len = comments_df['text_lemmatized'].apply(lambda x: len(x.split()))"
   ]
  },
  {
   "cell_type": "code",
   "execution_count": 321,
   "metadata": {},
   "outputs": [
    {
     "data": {
      "image/png": "[encoded data removed]",
      "text/plain": [
       "<Figure size 432x288 with 1 Axes>"
      ]
     },
     "metadata": {
      "needs_background": "light"
     },
     "output_type": "display_data"
    }
   ],
   "source": [
    "# Правда ли, что коротким комментариям чаще ставят лайки? Построим scatter plot для двух переменных.\n",
    "\n",
    "lemmatized_texts_len = comments_df['text_lemmatized'].apply(lambda x: len(x.split()))\n",
    "plt.scatter(lemmatized_texts_len, comments_df['likes_count'])\n",
    "plt.title('Количество лайков в зависимости от длины комментария')\n",
    "plt.ylabel('Количество лайков')\n",
    "plt.xlabel('Длина комментария (количство лемм)')\n",
    "plt.show()"
   ]
  },
  {
   "cell_type": "code",
   "execution_count": 328,
   "metadata": {},
   "outputs": [
    {
     "data": {
      "image/png": "[encoded data removed]",
      "text/plain": [
       "<Figure size 432x288 with 1 Axes>"
      ]
     },
     "metadata": {
      "needs_background": "light"
     },
     "output_type": "display_data"
    }
   ],
   "source": [
    "# Правда ли, что пользователи старшего возраста пишут более длинные комментарии? Построим scatter plot для двух переменных.\n",
    "\n",
    "age_lemmatized_texts_len = comments_df[comments_df['user_age'] != 'None']['text_lemmatized'].apply(lambda x: len(x.split()))\n",
    "\n",
    "plt.scatter(comments_df[comments_df['user_age'] != 'None']['user_age'], age_lemmatized_texts_len)\n",
    "plt.title('Длина комментария в зависимости от возраста пользователя')\n",
    "plt.ylabel('Длина комментария (количство лемм)')\n",
    "plt.xlabel('Возраст пользователя')\n",
    "plt.show()"
   ]
  },
  {
   "cell_type": "code",
   "execution_count": 330,
   "metadata": {},
   "outputs": [
    {
     "data": {
      "image/png": "[encoded data removed]",
      "text/plain": [
       "<Figure size 432x288 with 1 Axes>"
      ]
     },
     "metadata": {
      "needs_background": "light"
     },
     "output_type": "display_data"
    }
   ],
   "source": [
    "# Узнаем топ-30 лемм в комментариях, написанных ползователями 19 лет.\n",
    "\n",
    "lemma_19 = []\n",
    "\n",
    "for i in list(comments_df[comments_df['user_age'] == '19']['text_lemmatized']):\n",
    "    if i:\n",
    "        lemma_19.extend(i.split())\n",
    "\n",
    "\n",
    "lemma_19_count = Counter(lemma_19)\n",
    "\n",
    "plt.bar(dict(lemma_19_count.most_common(30)).keys(), dict(lemma_19_count.most_common(30)).values())\n",
    "plt.title('Топ-30 лемм в комментариях пользователей 19 лет')\n",
    "plt.ylabel('Количество вхождений леммы')\n",
    "plt.xlabel('Леммы')\n",
    "plt.xticks(rotation=90)\n",
    "plt.show()\n"
   ]
  },
  {
   "cell_type": "code",
   "execution_count": null,
   "metadata": {},
   "outputs": [],
   "source": []
  }
 ],
 "metadata": {
  "kernelspec": {
   "display_name": "Python 3",
   "language": "python",
   "name": "python3"
  },
  "language_info": {
   "codemirror_mode": {
    "name": "ipython",
    "version": 3
   },
   "file_extension": ".py",
   "mimetype": "text/x-python",
   "name": "python",
   "nbconvert_exporter": "python",
   "pygments_lexer": "ipython3",
   "version": "3.7.7"
  }
 },
 "nbformat": 4,
 "nbformat_minor": 2
}
