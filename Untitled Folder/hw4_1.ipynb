{
 "cells": [
  {
   "cell_type": "code",
   "execution_count": 42,
   "metadata": {},
   "outputs": [],
   "source": [
    "\n",
    "import pandas as pd\n",
    "import csv\n",
    "import sqlite3\n",
    "import random\n",
    "\n",
    "conn = sqlite3.connect('HW.db')\n",
    "# создаем объект \"курсор\", которому будем передавать запросы\n",
    "c = conn.cursor()\n",
    "\n",
    "# создаем таблицу\n",
    "c.execute(\"CREATE TABLE IF NOT EXISTS Respondents(ID_1, name, age, sex)\")\n",
    "c.execute(\"CREATE TABLE IF NOT EXISTS Responds(ID_2, ID_qu, answer, time)\")\n",
    "c.execute(\"CREATE TABLE IF NOT EXISTS Questions(ID_q, text)\")\n",
    "\n",
    "#primary key - ID_1, foreign key - ID_2 для людей, primary key - ID_qu, foreign key - ID_q для вопросов\n",
    "# вставляем строку\n",
    "c.execute(\"INSERT INTO Questions VALUES (1, 'Насколько вам нравится слово ДЕРЕВО?')\")\n",
    "c.execute(\"INSERT INTO Questions VALUES (2, 'Насколько вам нравится слово КАМЕНЬ?')\")\n",
    "c.execute(\"INSERT INTO Questions VALUES (3, 'Насколько вам нравится слово НОЖНИЦЫ?')\")\n",
    "c.execute(\"INSERT INTO Questions VALUES (4, 'Насколько вам нравится слово БУМАГА?')\")\n",
    "\n",
    "with open('random_names.json', encoding='utf-8') as f:\n",
    "    random_names = json.loads(f.read())\n",
    "for i in range(100):\n",
    "    id = i + 1\n",
    "    sex = random.choice(['m', 'f'])\n",
    "    if sex == 'm':\n",
    "        name = ' '.join([random.choice(random_names['male_names']), random.choice(random_names['male_last_names'])])\n",
    "    if sex == 'f':\n",
    "        name = ' '.join([random.choice(random_names['female_names']), random.choice(random_names['female_last_names'])])\n",
    "    age = random.randint(18, 100)\n",
    "        \n",
    "    c.execute('INSERT INTO Respondents VALUES (?, ?, ?, ?)', (id, name, age, sex))\n",
    "    c.execute(\"INSERT INTO Responds VALUES (?, ?, ?, ?)\", (id, 1, random.randint(1,5), random.random() * 3))\n",
    "    c.execute(\"INSERT INTO Responds VALUES (?, ?, ?, ?)\", (id, 2, random.randint(1,5), random.random() * 3))\n",
    "    c.execute(\"INSERT INTO Responds VALUES (?, ?, ?, ?)\", (id, 3, random.randint(1,5), random.random() * 3))\n",
    "    c.execute(\"INSERT INTO Responds VALUES (?, ?, ?, ?)\", (id, 4, random.randint(1,5), random.random() * 3) )\n",
    "\n",
    "\n",
    "conn.commit()\n",
    "conn.close()\n"
   ]
  },
  {
   "cell_type": "markdown",
   "metadata": {},
   "source": [
    "Какие испытуемые оценили слово ДЕРЕВО на оценку выше 3? (Запрос к двум таблицам)\n"
   ]
  },
  {
   "cell_type": "code",
   "execution_count": 43,
   "metadata": {},
   "outputs": [
    {
     "name": "stdout",
     "output_type": "stream",
     "text": [
      "(3, 'Демьян Гурьев', 5, 1)\n",
      "(5, 'Епифан Соболев', 4, 1)\n",
      "(7, 'Федотия Владимирова', 5, 1)\n",
      "(12, 'Христина Колобова', 5, 1)\n",
      "(17, 'Мартимьян Фадеев', 5, 1)\n",
      "(18, 'Гертруда Аксёнова', 4, 1)\n",
      "(27, 'Стефанида Смирнова', 5, 1)\n",
      "(29, 'Владимира Смирнова', 4, 1)\n",
      "(30, 'Мартин Никитин', 5, 1)\n",
      "(33, 'Терентий Силин', 4, 1)\n",
      "(34, 'Ануфрий Юдин', 4, 1)\n",
      "(36, 'Мариана Игнатова', 4, 1)\n",
      "(41, 'Фелицитата Гущина', 5, 1)\n",
      "(42, 'Домна Петрова', 4, 1)\n",
      "(43, 'Свирид Петухов', 4, 1)\n",
      "(48, 'Гермоген Бобров', 4, 1)\n",
      "(54, 'Антон Гаврилов', 5, 1)\n",
      "(55, 'Анфуса Шарова', 5, 1)\n",
      "(59, 'Феоктист Логинов', 4, 1)\n",
      "(61, 'Эммануил Романов', 4, 1)\n",
      "(62, 'Виринея Савельева', 5, 1)\n",
      "(64, 'Эрнст Зыков', 5, 1)\n",
      "(66, 'Сатира Маркова', 5, 1)\n",
      "(67, 'Игнат Новиков', 5, 1)\n",
      "(68, 'Донат Рожков', 5, 1)\n",
      "(70, 'Ида Алексеева', 4, 1)\n",
      "(71, 'Тигрия Суворова', 4, 1)\n",
      "(72, 'Эраст Максимов', 4, 1)\n",
      "(74, 'Кирсан Красильников', 5, 1)\n",
      "(75, 'Зина Пономарёва', 5, 1)\n",
      "(80, 'Тихомира Быкова', 4, 1)\n",
      "(81, 'Ревмира Коновалова', 4, 1)\n",
      "(83, 'Изот Галкин', 5, 1)\n",
      "(86, 'Лукерья Жданова', 5, 1)\n",
      "(91, 'Кандидий Коновалов', 5, 1)\n",
      "(92, 'Марин Фадеев', 5, 1)\n",
      "(94, 'Ангела Шарапова', 4, 1)\n",
      "(95, 'Нестор Самсонов', 4, 1)\n",
      "(98, 'Петрония Савина', 4, 1)\n",
      "(99, 'Идея Лыткина', 4, 1)\n"
     ]
    }
   ],
   "source": [
    "conn = sqlite3.connect('HW.db')\n",
    "cur = conn.cursor()\n",
    "for row in cur.execute('SELECT ID_1, name, answer, ID_qu FROM Respondents JOIN Responds ON Respondents.ID_1 = Responds.ID_2 WHERE Responds.answer >= 4 AND Responds.ID_qu = 1'):\n",
    "    print(row)\n",
    "conn.commit()\n",
    "conn.close()"
   ]
  },
  {
   "cell_type": "markdown",
   "metadata": {},
   "source": [
    "Покажите людей с именем Фотий. (Запрос к одной таблице)"
   ]
  },
  {
   "cell_type": "code",
   "execution_count": 44,
   "metadata": {},
   "outputs": [],
   "source": [
    "conn = sqlite3.connect('HW.db')\n",
    "cur = conn.cursor()\n",
    "for row in cur.execute('SELECT ID_1, name FROM Respondents WHERE name LIKE \"Фотий%\"'):\n",
    "    print(row)\n",
    "conn.commit()    \n",
    "conn.close()"
   ]
  },
  {
   "cell_type": "markdown",
   "metadata": {},
   "source": [
    "Применение функции UPDATE (Заменяем у всех Фотиев Потаповых id) "
   ]
  },
  {
   "cell_type": "code",
   "execution_count": 45,
   "metadata": {},
   "outputs": [],
   "source": [
    "conn = sqlite3.connect('HW.db')\n",
    "cur = conn.cursor()\n",
    "cur.execute(\"UPDATE Respondents SET name = 'Фотий Потапов' WHERE ID_1 = 1\")\n",
    "conn.commit()\n",
    "conn.close()"
   ]
  },
  {
   "cell_type": "markdown",
   "metadata": {},
   "source": [
    "Бокс-плот для мужичн и женщин по времени ответа на вопрос про КАМЕНЬ"
   ]
  },
  {
   "cell_type": "code",
   "execution_count": 46,
   "metadata": {},
   "outputs": [],
   "source": [
    "conn = sqlite3.connect('HW.db')\n",
    "cur = conn.cursor()\n",
    "cur.execute('SELECT sex, time FROM Respondents JOIN Responds ON Respondents.ID_1 = Responds.ID_2 WHERE Responds.ID_qu = 2')\n",
    "men = cur.fetchall()\n",
    "sex = []\n",
    "time = []\n",
    "for a in men:\n",
    "    sex.append(a[0])\n",
    "    time.append(a[1])\n",
    "conn.close()"
   ]
  },
  {
   "cell_type": "code",
   "execution_count": 48,
   "metadata": {},
   "outputs": [
    {
     "data": {
      "image/png": "[encoded data removed]",
      "text/plain": [
       "<Figure size 720x432 with 1 Axes>"
      ]
     },
     "metadata": {
      "needs_background": "light"
     },
     "output_type": "display_data"
    }
   ],
   "source": [
    "\n",
    "\n",
    "import matplotlib.pyplot as plt\n",
    "%matplotlib inline\n",
    "import seaborn as sns\n",
    "import random\n",
    "import numpy as np\n",
    "random.seed = 23\n",
    "d2 = {\"sex\":np.array(sex), \"time\":np.array(time)}\n",
    "df2 = pd.DataFrame(d2)\n",
    "\n",
    "plt.figure(figsize=(10, 6))\n",
    "sns.boxplot(x=\"sex\", y=\"time\", data=df2)\n",
    "plt.title('m - males, f - females')\n",
    "plt.ylabel('time')\n",
    "plt.xlabel('sex');"
   ]
  },
  {
   "cell_type": "code",
   "execution_count": null,
   "metadata": {},
   "outputs": [],
   "source": []
  }
 ],
 "metadata": {
  "kernelspec": {
   "display_name": "Python 3",
   "language": "python",
   "name": "python3"
  },
  "language_info": {
   "codemirror_mode": {
    "name": "ipython",
    "version": 3
   },
   "file_extension": ".py",
   "mimetype": "text/x-python",
   "name": "python",
   "nbconvert_exporter": "python",
   "pygments_lexer": "ipython3",
   "version": "3.7.7"
  }
 },
 "nbformat": 4,
 "nbformat_minor": 2
}
