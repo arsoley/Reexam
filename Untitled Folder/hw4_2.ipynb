{
 "cells": [
  {
   "cell_type": "code",
   "execution_count": 2,
   "metadata": {},
   "outputs": [
    {
     "name": "stdout",
     "output_type": "stream",
     "text": [
      "Ссылка на список рекомендованных произведений: https://stihi.ru//editor/\n"
     ]
    }
   ],
   "source": [
    "#скачаем главную страницу и получим ссылку на список рекомендованных произведений\n",
    "import requests\n",
    "from bs4 import BeautifulSoup\n",
    "import re\n",
    "\n",
    "\n",
    "response = requests.get('https://stihi.ru/')\n",
    "html = response.text\n",
    "\n",
    "soup = BeautifulSoup(html,'html.parser')\n",
    "result = str(soup.find('a', {'class': 'topref'}))\n",
    "link = 'https://stihi.ru/' + re.search('href=\"(.+?)\"', result).group(1)\n",
    "print(f'Ссылка на список рекомендованных произведений: {link}')\n"
   ]
  },
  {
   "cell_type": "code",
   "execution_count": 3,
   "metadata": {},
   "outputs": [
    {
     "name": "stdout",
     "output_type": "stream",
     "text": [
      "Рекомендованные произведения: \n",
      "\n",
      "Ветер (Байкина Нина) - 15.09.2020 11:32\n",
      "Вьётся по ветру (Ирина Молочкова) - 15.09.2020 11:33\n",
      "Гляжу на Окское Заречье (Сергей Кувшинов) - 15.09.2020 11:34\n",
      "Бабье лето (Людмила Шишенина) - 15.09.2020 11:37\n",
      "Чипсы (Илья Бестужев) - 15.09.2020 11:38\n",
      "Без пьедестала (Геннадий Акимов) - 15.09.2020 11:41\n",
      "Голуби шумно снялись с тополей (Александр Рудт) - 15.09.2020 12:35\n",
      "Увидишь утром зелень сада (Хубулава Григорий Геннадьевич) - 15.09.2020 12:36\n",
      "Осень дышит первой прелью (Сергей Хомутов Рыбинск) - 15.09.2020 12:38\n",
      "Круговорот (Илья Будницкий) - 15.09.2020 12:38\n",
      "Утро в деревне (Марина Николаева-Бурак) - 15.09.2020 12:42\n",
      "В нашем домике дачном пластинки пылятся (Сергей Хомутов Рыбинск) - 16.09.2020 09:34\n",
      "Жёлтое (Марина Николаева-Бурак) - 16.09.2020 10:40\n",
      "Синий кот (Екатерина Ла) - 16.09.2020 10:42\n",
      "Где георгины (Таня Иванова-Яковлева) - 16.09.2020 10:43\n",
      "Воздушный подарок (Ольга Иркегулова) - 16.09.2020 10:44\n",
      "День осенний (Сергей Низамов) - 16.09.2020 10:46\n",
      "Это ж-ж-ж неспроста (Качур Доналд) - 16.09.2020 10:46\n",
      "Зарисовка (Лариса Махоткина) - 16.09.2020 10:51\n",
      "Ольга (Виталий Овчаренко) - 16.09.2020 10:57\n",
      "И боль сердечная ушла (Владимир Шугля) - 16.09.2020 10:59\n",
      "Бусинки звезд (Владислав Савенко) - 16.09.2020 11:29\n",
      "Фотографии 1858-1872 года. Часть 9 (Владимир Мялин) - 16.09.2020 12:39\n",
      "Не веди отсчета времени (Олег Долгунов) - 17.09.2020 10:19\n",
      "Как пестреют осенние клумбы (Владимир Мялин) - 17.09.2020 10:20\n",
      "Легко, как в извилине гибкой ручья (Фокеева Елена) - 17.09.2020 10:58\n",
      "Луч солнца (Андрей Ивонин) - 17.09.2020 11:42\n",
      "Круг (Полина Орынянская) - 17.09.2020 11:42\n",
      "Божьи яблоки (Анна Арканина) - 17.09.2020 11:50\n",
      "Взрослость (Алла Арцис) - 17.09.2020 12:19\n"
     ]
    }
   ],
   "source": [
    "#получим информацию о произведениях из списка\n",
    "\n",
    "from collections import namedtuple\n",
    "\n",
    "\n",
    "response = requests.get(link)\n",
    "html = response.text\n",
    "\n",
    "soup = BeautifulSoup(html,'html.parser')\n",
    "poem_list = str(soup.find('ul', {'type': 'square'}))\n",
    "soup = BeautifulSoup(poem_list, 'html.parser')\n",
    "poems = [str(x) for x in soup.find_all('li')]\n",
    "\n",
    "poem_info = namedtuple('poem_info', 'title author publication_time')\n",
    "poems_info = []\n",
    "for poem in poems:\n",
    "    soup = BeautifulSoup(poem, 'html.parser')\n",
    "    title = soup.find('a', {'class': 'poemlink'}).get_text()\n",
    "    author = soup.find('a', {'class': 'authorlink'}).get_text()\n",
    "    publication_time = soup.find('small').get_text()[2:]\n",
    "    poems_info.append(poem_info(title, author, publication_time))\n",
    "\n",
    "poems_info.sort(key=lambda x: x.publication_time)\n",
    "print('Рекомендованные произведения: ')\n",
    "print()\n",
    "for poem_info in poems_info:\n",
    "    print(f'{poem_info.title} ({poem_info.author}) - {poem_info.publication_time}')"
   ]
  },
  {
   "cell_type": "code",
   "execution_count": null,
   "metadata": {},
   "outputs": [],
   "source": []
  }
 ],
 "metadata": {
  "kernelspec": {
   "display_name": "Python 3",
   "language": "python",
   "name": "python3"
  },
  "language_info": {
   "codemirror_mode": {
    "name": "ipython",
    "version": 3
   },
   "file_extension": ".py",
   "mimetype": "text/x-python",
   "name": "python",
   "nbconvert_exporter": "python",
   "pygments_lexer": "ipython3",
   "version": "3.7.7"
  }
 },
 "nbformat": 4,
 "nbformat_minor": 2
}
